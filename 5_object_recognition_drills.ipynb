{
  "nbformat": 4,
  "nbformat_minor": 0,
  "metadata": {
    "kernelspec": {
      "display_name": "Python 3",
      "language": "python",
      "name": "python3"
    },
    "language_info": {
      "codemirror_mode": {
        "name": "ipython",
        "version": 3
      },
      "file_extension": ".py",
      "mimetype": "text/x-python",
      "name": "python",
      "nbconvert_exporter": "python",
      "pygments_lexer": "ipython3",
      "version": "3.7.9"
    },
    "colab": {
      "name": "5.object_recognition_drills.ipynb",
      "provenance": [],
      "collapsed_sections": [],
      "include_colab_link": true
    }
  },
  "cells": [
    {
      "cell_type": "markdown",
      "metadata": {
        "id": "view-in-github",
        "colab_type": "text"
      },
      "source": [
        "<a href=\"https://colab.research.google.com/github/abdellahML/colab/blob/main/5_object_recognition_drills.ipynb\" target=\"_parent\"><img src=\"https://colab.research.google.com/assets/colab-badge.svg\" alt=\"Open In Colab\"/></a>"
      ]
    },
    {
      "cell_type": "markdown",
      "metadata": {
        "id": "mewAUyle-LST"
      },
      "source": [
        "# Object recognition drills\n",
        "\n",
        "You've seen an example of a simple neural network in the [previous](./3.object_recognition_with_keras.ipynb) [chapters](./4.object_recognition_with_pytorch.ipynb), but can you make your own as well? Let's flex our neural skills and **extend** the model from the previous chapter.\n",
        "\n",
        "## Multiple classes\n",
        "\n",
        "The previous model was alright in separating cats from dogs, but what if we want to add on more classes? Extend the previous model by **adding more classes** from the Google [\"quick,draw!\" dataset](https://console.cloud.google.com/storage/browser/quickdraw_dataset/full/numpy_bitmap). \n",
        "\n",
        "Choose 6 classes of your own, train and test your model as shown in the previous notebook. You might need to change the model structure a bit to deal with the new classes. Hint: choose yourself some visually distinct classes to make your life a bit easier.\n",
        "\n",
        "You can choose whether you want to use keras or pytorch."
      ]
    },
    {
      "cell_type": "code",
      "metadata": {
        "id": "xTsBvoaj-LSb"
      },
      "source": [
        "# extend the model shown in the previous chapter to recognise 6 different classes\n",
        "  #storage.googleapis.com in place of storage.google.com"
      ],
      "execution_count": null,
      "outputs": []
    },
    {
      "cell_type": "code",
      "metadata": {
        "colab": {
          "base_uri": "https://localhost:8080/"
        },
        "id": "W1ugIADv-LSc",
        "outputId": "53043965-5a4e-45d5-816b-266e54b1e6b1"
      },
      "source": [
        "!wget -N https://storage.googleapis.com/quickdraw_dataset/full/numpy_bitmap/dog.npy -P ../assets/\n",
        "!wget -N https://storage.googleapis.com/quickdraw_dataset/full/numpy_bitmap/cat.npy -P ../assets/\n",
        "!wget -N https://storage.googleapis.com/quickdraw_dataset/full/numpy_bitmap/cow.npy -P ../assets/\n",
        "!wget -N https://storage.googleapis.com/quickdraw_dataset/full/numpy_bitmap/bird.npy -P ../assets/\n",
        "!wget -N https://storage.googleapis.com/quickdraw_dataset/full/numpy_bitmap/fish.npy -P ../assets/\n",
        "!wget -N https://storage.googleapis.com/quickdraw_dataset/full/numpy_bitmap/dragon.npy -P ../assets/"
      ],
      "execution_count": 2,
      "outputs": [
        {
          "output_type": "stream",
          "text": [
            "--2021-03-16 08:12:53--  https://storage.googleapis.com/quickdraw_dataset/full/numpy_bitmap/dog.npy\n",
            "Resolving storage.googleapis.com (storage.googleapis.com)... 74.125.124.128, 172.217.212.128, 172.217.214.128, ...\n",
            "Connecting to storage.googleapis.com (storage.googleapis.com)|74.125.124.128|:443... connected.\n",
            "HTTP request sent, awaiting response... 200 OK\n",
            "Length: 119292736 (114M) [application/octet-stream]\n",
            "Saving to: ‘../assets/dog.npy’\n",
            "\n",
            "dog.npy             100%[===================>] 113.77M  93.0MB/s    in 1.2s    \n",
            "\n",
            "2021-03-16 08:12:54 (93.0 MB/s) - ‘../assets/dog.npy’ saved [119292736/119292736]\n",
            "\n",
            "--2021-03-16 08:12:54--  https://storage.googleapis.com/quickdraw_dataset/full/numpy_bitmap/cat.npy\n",
            "Resolving storage.googleapis.com (storage.googleapis.com)... 142.250.136.128, 172.217.212.128, 172.217.214.128, ...\n",
            "Connecting to storage.googleapis.com (storage.googleapis.com)|142.250.136.128|:443... connected.\n",
            "HTTP request sent, awaiting response... 200 OK\n",
            "Length: 96590448 (92M) [application/octet-stream]\n",
            "Saving to: ‘../assets/cat.npy’\n",
            "\n",
            "cat.npy             100%[===================>]  92.12M   122MB/s    in 0.8s    \n",
            "\n",
            "2021-03-16 08:12:55 (122 MB/s) - ‘../assets/cat.npy’ saved [96590448/96590448]\n",
            "\n",
            "--2021-03-16 08:12:55--  https://storage.googleapis.com/quickdraw_dataset/full/numpy_bitmap/cow.npy\n",
            "Resolving storage.googleapis.com (storage.googleapis.com)... 142.250.1.128, 108.177.121.128, 74.125.126.128, ...\n",
            "Connecting to storage.googleapis.com (storage.googleapis.com)|142.250.1.128|:443... connected.\n",
            "HTTP request sent, awaiting response... 200 OK\n",
            "Length: 96497152 (92M) [application/octet-stream]\n",
            "Saving to: ‘../assets/cow.npy’\n",
            "\n",
            "cow.npy             100%[===================>]  92.03M   133MB/s    in 0.7s    \n",
            "\n",
            "2021-03-16 08:12:56 (133 MB/s) - ‘../assets/cow.npy’ saved [96497152/96497152]\n",
            "\n",
            "--2021-03-16 08:12:56--  https://storage.googleapis.com/quickdraw_dataset/full/numpy_bitmap/bird.npy\n",
            "Resolving storage.googleapis.com (storage.googleapis.com)... 172.217.212.128, 172.217.214.128, 172.253.114.128, ...\n",
            "Connecting to storage.googleapis.com (storage.googleapis.com)|172.217.212.128|:443... connected.\n",
            "HTTP request sent, awaiting response... 200 OK\n",
            "Length: 104720528 (100M) [application/octet-stream]\n",
            "Saving to: ‘../assets/bird.npy’\n",
            "\n",
            "bird.npy            100%[===================>]  99.87M   136MB/s    in 0.7s    \n",
            "\n",
            "2021-03-16 08:12:57 (136 MB/s) - ‘../assets/bird.npy’ saved [104720528/104720528]\n",
            "\n",
            "--2021-03-16 08:12:57--  https://storage.googleapis.com/quickdraw_dataset/full/numpy_bitmap/fish.npy\n",
            "Resolving storage.googleapis.com (storage.googleapis.com)... 108.177.121.128, 142.251.6.128, 173.194.195.128, ...\n",
            "Connecting to storage.googleapis.com (storage.googleapis.com)|108.177.121.128|:443... connected.\n",
            "HTTP request sent, awaiting response... 200 OK\n",
            "Length: 105173680 (100M) [application/octet-stream]\n",
            "Saving to: ‘../assets/fish.npy’\n",
            "\n",
            "fish.npy            100%[===================>] 100.30M   121MB/s    in 0.8s    \n",
            "\n",
            "2021-03-16 08:12:58 (121 MB/s) - ‘../assets/fish.npy’ saved [105173680/105173680]\n",
            "\n",
            "--2021-03-16 08:12:58--  https://storage.googleapis.com/quickdraw_dataset/full/numpy_bitmap/dragon.npy\n",
            "Resolving storage.googleapis.com (storage.googleapis.com)... 209.85.145.128, 142.250.148.128, 209.85.234.128, ...\n",
            "Connecting to storage.googleapis.com (storage.googleapis.com)|209.85.145.128|:443... connected.\n",
            "HTTP request sent, awaiting response... 200 OK\n",
            "Length: 97499888 (93M) [application/octet-stream]\n",
            "Saving to: ‘../assets/dragon.npy’\n",
            "\n",
            "dragon.npy          100%[===================>]  92.98M   119MB/s    in 0.8s    \n",
            "\n",
            "2021-03-16 08:12:59 (119 MB/s) - ‘../assets/dragon.npy’ saved [97499888/97499888]\n",
            "\n"
          ],
          "name": "stdout"
        }
      ]
    },
    {
      "cell_type": "code",
      "metadata": {
        "colab": {
          "base_uri": "https://localhost:8080/",
          "height": 298
        },
        "id": "An8xe_qT-LSo",
        "outputId": "1391158a-4381-45c9-961b-5ae9b1ce547b"
      },
      "source": [
        "import numpy as np\n",
        "from matplotlib import pyplot as plt\n",
        "dogs = np.load(\"../assets/dog.npy\")\n",
        "cats = np.load(\"../assets/cat.npy\")\n",
        "cows = np.load(\"../assets/cow.npy\")\n",
        "birds = np.load(\"../assets/bird.npy\")\n",
        "fishes = np.load(\"../assets/fish.npy\")\n",
        "dragons = np.load(\"../assets/dragon.npy\")\n",
        "\n",
        "plt.bar([0,1,2,3,4,5], [dogs.shape[0], cats.shape[0], cows.shape[0], \n",
        "                birds.shape[0], fishes.shape[0], dragons.shape[0]])\n",
        "plt.title('dataset sizes')\n",
        "plt.xticks([0,1,2,3,4,5], ['dogs', 'cats', 'cows', 'birds', 'fishes', 'dragons'])\n",
        "plt.ylabel('number of samples')"
      ],
      "execution_count": 3,
      "outputs": [
        {
          "output_type": "execute_result",
          "data": {
            "text/plain": [
              "Text(0, 0.5, 'number of samples')"
            ]
          },
          "metadata": {
            "tags": []
          },
          "execution_count": 3
        },
        {
          "output_type": "display_data",
          "data": {
            "image/png": "[encoded data removed]",
            "text/plain": [
              "<Figure size 432x288 with 1 Axes>"
            ]
          },
          "metadata": {
            "tags": [],
            "needs_background": "light"
          }
        }
      ]
    },
    {
      "cell_type": "code",
      "metadata": {
        "colab": {
          "base_uri": "https://localhost:8080/",
          "height": 1000
        },
        "id": "s0C3UnmbMsYs",
        "outputId": "9340865c-67a1-4fdb-a58d-165eb13d2264"
      },
      "source": [
        "samples = [cats, dogs, cows, birds, fishes, dragons]\n",
        "for i in samples:\n",
        "  plt.imshow(i[0].reshape(28,28), cmap=\"gray\")\n",
        "  plt.show()"
      ],
      "execution_count": 4,
      "outputs": [
        {
          "output_type": "display_data",
          "data": {
            "image/png": "[encoded data removed]",
            "text/plain": [
              "<Figure size 432x288 with 1 Axes>"
            ]
          },
          "metadata": {
            "tags": [],
            "needs_background": "light"
          }
        },
        {
          "output_type": "display_data",
          "data": {
            "image/png": "[encoded data removed]",
            "text/plain": [
              "<Figure size 432x288 with 1 Axes>"
            ]
          },
          "metadata": {
            "tags": [],
            "needs_background": "light"
          }
        },
        {
          "output_type": "display_data",
          "data": {
            "image/png": "[encoded data removed]",
            "text/plain": [
              "<Figure size 432x288 with 1 Axes>"
            ]
          },
          "metadata": {
            "tags": [],
            "needs_background": "light"
          }
        },
        {
          "output_type": "display_data",
          "data": {
            "image/png": "[encoded data removed]",
            "text/plain": [
              "<Figure size 432x288 with 1 Axes>"
            ]
          },
          "metadata": {
            "tags": [],
            "needs_background": "light"
          }
        },
        {
          "output_type": "display_data",
          "data": {
            "image/png": "[encoded data removed]",
            "text/plain": [
              "<Figure size 432x288 with 1 Axes>"
            ]
          },
          "metadata": {
            "tags": [],
            "needs_background": "light"
          }
        },
        {
          "output_type": "display_data",
          "data": {
            "image/png": "[encoded data removed]",
            "text/plain": [
              "<Figure size 432x288 with 1 Axes>"
            ]
          },
          "metadata": {
            "tags": [],
            "needs_background": "light"
          }
        }
      ]
    },
    {
      "cell_type": "code",
      "metadata": {
        "colab": {
          "base_uri": "https://localhost:8080/"
        },
        "id": "mN4-iGtnTN45",
        "outputId": "eab1681d-1d94-40ff-8378-064685614dbd"
      },
      "source": [
        "samples = [ cats, dogs, cows, birds, fishes, dragons]\n",
        "max_samples = min(i.shape[0] for i in samples)\n",
        "print(max_samples)"
      ],
      "execution_count": 5,
      "outputs": [
        {
          "output_type": "stream",
          "text": [
            "123083\n"
          ],
          "name": "stdout"
        }
      ]
    },
    {
      "cell_type": "code",
      "metadata": {
        "id": "iRwRo0eyVSlL",
        "colab": {
          "base_uri": "https://localhost:8080/",
          "height": 298
        },
        "outputId": "d33a9156-7d78-4ebc-c81d-1e201a686184"
      },
      "source": [
        "preprocessed_cats = cats[:max_samples].reshape(-1,28,28)\n",
        "preprocessed_dogs = dogs[:max_samples].reshape(-1,28,28)\n",
        "preprocessed_cows = cows[:max_samples].reshape(-1,28,28)\n",
        "preprocessed_birds = birds[:max_samples].reshape(-1,28,28)\n",
        "preprocessed_fishes = fishes[:max_samples].reshape(-1,28,28)\n",
        "preprocessed_dragons = dragons[:max_samples].reshape(-1,28,28)\n",
        "\n",
        "\n",
        "plt.bar([0,1,2,3,4,5], [preprocessed_cats.shape[0], preprocessed_cats.shape[0], preprocessed_cows.shape[0], preprocessed_birds.shape[0], preprocessed_fishes.shape[0], preprocessed_dragons.shape[0]])\n",
        "plt.title('dataset sizes')\n",
        "plt.xticks([0,1,2,3,4,5], ['dogs', 'cats', 'cows', 'birds', 'fishes', 'dragons'])\n",
        "plt.ylabel('number of samples')"
      ],
      "execution_count": 7,
      "outputs": [
        {
          "output_type": "execute_result",
          "data": {
            "text/plain": [
              "Text(0, 0.5, 'number of samples')"
            ]
          },
          "metadata": {
            "tags": []
          },
          "execution_count": 7
        },
        {
          "output_type": "display_data",
          "data": {
            "image/png": "[encoded data removed]",
            "text/plain": [
              "<Figure size 432x288 with 1 Axes>"
            ]
          },
          "metadata": {
            "tags": [],
            "needs_background": "light"
          }
        }
      ]
    },
    {
      "cell_type": "code",
      "metadata": {
        "id": "c6nzmtZ7R5O_"
      },
      "source": [
        "cat_labels = np.zeros((max_samples, 1))\n",
        "dog_labels = np.ones((max_samples, 1))\n",
        "cow_labels = np.full((max_samples, 1), 2)\n",
        "bird_labels = np.full((max_samples, 1), 3)\n",
        "fish_labels = np.full((max_samples, 1), 4)\n",
        "dragon_labels = np.full((max_samples, 1), 5)"
      ],
      "execution_count": 8,
      "outputs": []
    },
    {
      "cell_type": "code",
      "metadata": {
        "colab": {
          "base_uri": "https://localhost:8080/"
        },
        "id": "ofVsfjLpHDoj",
        "outputId": "763ab680-05ca-4bf5-81d1-1db4809dea98"
      },
      "source": [
        "import tensorflow as tf\n",
        "\n",
        "labels = np.concatenate([cat_labels, dog_labels, cow_labels,\n",
        "                         bird_labels, fish_labels, dragon_labels])\n",
        "labels = tf.keras.utils.to_categorical(labels, num_classes=6)\n",
        "                                                                  # the order of concatenate in labels and drawings has to be the same or the tf.keras.utils.to_categorical wont work out\n",
        "drawings = np.concatenate([preprocessed_cats, preprocessed_dogs, preprocessed_cows\n",
        "                           , preprocessed_birds, preprocessed_fishes, preprocessed_dragons]) \n",
        "\n",
        "# tensorflow wants a 4D tensor with (n_images, width, height, colour_depth)\n",
        "print(\"Drawings shape before : \", drawings.shape)\n",
        "drawings = np.expand_dims(drawings, axis=3)\n",
        "print(\"Drawings shape after : \", drawings.shape)\n",
        "print(\"Label shape : \", labels.shape)"
      ],
      "execution_count": 9,
      "outputs": [
        {
          "output_type": "stream",
          "text": [
            "Drawings shape before :  (738498, 28, 28)\n",
            "Drawings shape after :  (738498, 28, 28, 1)\n",
            "Label shape :  (738498, 6)\n"
          ],
          "name": "stdout"
        }
      ]
    },
    {
      "cell_type": "code",
      "metadata": {
        "colab": {
          "base_uri": "https://localhost:8080/"
        },
        "id": "KEb1hXVJHEv4",
        "outputId": "5e11a8f3-bb98-4e30-ea14-8d02cf5541df"
      },
      "source": [
        "from sklearn.model_selection import train_test_split\n",
        "\n",
        "train_drawings, test_drawings, train_labels, test_labels = train_test_split(\n",
        "    drawings, \n",
        "    labels,\n",
        "    test_size=0.2, \n",
        "    random_state=42, \n",
        "    shuffle=True\n",
        ")\n",
        "\n",
        "print(\"train_drawings shape : \", train_drawings.shape)\n",
        "print(\"test_drawings shape : \", test_drawings.shape)\n",
        "print(\"train_labels shape : \", train_labels.shape)\n",
        "print(\"test_labels shape : \", test_labels.shape)"
      ],
      "execution_count": 10,
      "outputs": [
        {
          "output_type": "stream",
          "text": [
            "train_drawings shape :  (590798, 28, 28, 1)\n",
            "test_drawings shape :  (147700, 28, 28, 1)\n",
            "train_labels shape :  (590798, 6)\n",
            "test_labels shape :  (147700, 6)\n"
          ],
          "name": "stdout"
        }
      ]
    },
    {
      "cell_type": "code",
      "metadata": {
        "colab": {
          "base_uri": "https://localhost:8080/"
        },
        "id": "ERFRbsZNHE_S",
        "outputId": "853dff27-8ee1-49b0-8adb-b665ae9d7480"
      },
      "source": [
        ""
      ],
      "execution_count": 16,
      "outputs": [
        {
          "output_type": "execute_result",
          "data": {
            "text/plain": [
              "(147700, 6)"
            ]
          },
          "metadata": {
            "tags": []
          },
          "execution_count": 16
        }
      ]
    },
    {
      "cell_type": "code",
      "metadata": {
        "colab": {
          "base_uri": "https://localhost:8080/"
        },
        "id": "etztkeG1W-eu",
        "outputId": "df92f541-c2b0-4560-e353-826426e4f7d6"
      },
      "source": [
        ""
      ],
      "execution_count": 17,
      "outputs": [
        {
          "output_type": "execute_result",
          "data": {
            "text/plain": [
              "(147700, 28, 28, 1)"
            ]
          },
          "metadata": {
            "tags": []
          },
          "execution_count": 17
        }
      ]
    },
    {
      "cell_type": "code",
      "metadata": {
        "id": "pyYwK-NlMsnk",
        "colab": {
          "base_uri": "https://localhost:8080/"
        },
        "outputId": "5efb1324-2ed4-4d5a-a2e9-171442b71244"
      },
      "source": [
        "from tensorflow.keras import models, layers\n",
        "input_size = 28\n",
        "model = models.Sequential()\n",
        "model.add(layers.Conv2D(32, kernel_size = (5, 5), activation='relu', input_shape=(input_size, input_size, 1)))\n",
        "model.add(layers.MaxPooling2D(pool_size=(2, 2), strides=(2, 2), padding='same'))\n",
        "model.add(layers.Conv2D(32, kernel_size = (5, 5), activation='relu', ))\n",
        "model.add(layers.MaxPooling2D(pool_size=(2, 2), strides=(2, 2), padding='same'))\n",
        "model.add(layers.Flatten())\n",
        "model.add(layers.Dense(16, activation='relu'))\n",
        "model.add(layers.Dropout(0.5))                 #deactivate half of the preceeding layer\n",
        "model.add(layers.Dense(8, activation='relu'))\n",
        "model.add(layers.Dropout(0.5))                 #deactivate half of the preceeding layer\n",
        "model.add(layers.Dense(6, activation='softmax')) # 6 classes\n",
        "model.summary()"
      ],
      "execution_count": 12,
      "outputs": [
        {
          "output_type": "stream",
          "text": [
            "Model: \"sequential\"\n",
            "_________________________________________________________________\n",
            "Layer (type)                 Output Shape              Param #   \n",
            "=================================================================\n",
            "conv2d (Conv2D)              (None, 24, 24, 32)        832       \n",
            "_________________________________________________________________\n",
            "max_pooling2d (MaxPooling2D) (None, 12, 12, 32)        0         \n",
            "_________________________________________________________________\n",
            "conv2d_1 (Conv2D)            (None, 8, 8, 32)          25632     \n",
            "_________________________________________________________________\n",
            "max_pooling2d_1 (MaxPooling2 (None, 4, 4, 32)          0         \n",
            "_________________________________________________________________\n",
            "flatten (Flatten)            (None, 512)               0         \n",
            "_________________________________________________________________\n",
            "dense (Dense)                (None, 16)                8208      \n",
            "_________________________________________________________________\n",
            "dropout (Dropout)            (None, 16)                0         \n",
            "_________________________________________________________________\n",
            "dense_1 (Dense)              (None, 8)                 136       \n",
            "_________________________________________________________________\n",
            "dropout_1 (Dropout)          (None, 8)                 0         \n",
            "_________________________________________________________________\n",
            "dense_2 (Dense)              (None, 6)                 54        \n",
            "=================================================================\n",
            "Total params: 34,862\n",
            "Trainable params: 34,862\n",
            "Non-trainable params: 0\n",
            "_________________________________________________________________\n"
          ],
          "name": "stdout"
        }
      ]
    },
    {
      "cell_type": "code",
      "metadata": {
        "id": "LKarb5wlMtTx",
        "colab": {
          "base_uri": "https://localhost:8080/"
        },
        "outputId": "1d0f7bb1-20be-452f-e610-c89acf170e5d"
      },
      "source": [
        "model.compile(optimizer='adam',\n",
        "              loss='CategoricalCrossentropy',          # sparse_categorical_crossentropy works only with binary output??? \n",
        "              metrics=['accuracy'])\n",
        "\n",
        "history = model.fit(train_drawings, train_labels, epochs=6, \n",
        "                    validation_data=(test_drawings, test_labels))"
      ],
      "execution_count": 18,
      "outputs": [
        {
          "output_type": "stream",
          "text": [
            "Epoch 1/6\n",
            "18463/18463 [==============================] - 542s 29ms/step - loss: 1.8680 - accuracy: 0.1682 - val_loss: 1.7918 - val_accuracy: 0.1664\n",
            "Epoch 2/6\n",
            "18463/18463 [==============================] - 541s 29ms/step - loss: 1.7919 - accuracy: 0.1664 - val_loss: 1.7919 - val_accuracy: 0.1663\n",
            "Epoch 3/6\n",
            "18463/18463 [==============================] - 535s 29ms/step - loss: 1.7919 - accuracy: 0.1668 - val_loss: 1.7923 - val_accuracy: 0.1663\n",
            "Epoch 4/6\n",
            "18463/18463 [==============================] - 537s 29ms/step - loss: 1.7919 - accuracy: 0.1658 - val_loss: 1.7918 - val_accuracy: 0.1663\n",
            "Epoch 5/6\n",
            "18463/18463 [==============================] - 535s 29ms/step - loss: 1.7919 - accuracy: 0.1655 - val_loss: 1.7918 - val_accuracy: 0.1665\n",
            "Epoch 6/6\n",
            "18463/18463 [==============================] - 539s 29ms/step - loss: 1.7919 - accuracy: 0.1662 - val_loss: 1.7918 - val_accuracy: 0.1663\n"
          ],
          "name": "stdout"
        }
      ]
    },
    {
      "cell_type": "code",
      "metadata": {
        "id": "AUVrloXRlT-C"
      },
      "source": [
        "#model.save('model_colab_88%')  #to save a model"
      ],
      "execution_count": null,
      "outputs": []
    },
    {
      "cell_type": "code",
      "metadata": {
        "id": "nWQdcCxElcYR"
      },
      "source": [
        ""
      ],
      "execution_count": null,
      "outputs": []
    },
    {
      "cell_type": "code",
      "metadata": {
        "id": "qB_wM-0f-LSp",
        "colab": {
          "base_uri": "https://localhost:8080/",
          "height": 296
        },
        "outputId": "6e65aad1-417a-4924-afda-20a220802435"
      },
      "source": [
        "plt.plot(history.history['accuracy'], label='training set')\n",
        "plt.plot(history.history['val_accuracy'], label = 'testing set')\n",
        "plt.xlabel('Epoch')\n",
        "plt.ylabel('Accuracy')\n",
        "#plt.ylim([0.5, 1])\n",
        "plt.legend(loc='lower right')\n",
        "\n",
        "test_loss, test_acc = model.evaluate(test_drawings,  test_labels, verbose=2)"
      ],
      "execution_count": 19,
      "outputs": [
        {
          "output_type": "stream",
          "text": [
            "4616/4616 - 32s - loss: 1.7918 - accuracy: 0.1663\n"
          ],
          "name": "stdout"
        },
        {
          "output_type": "display_data",
          "data": {
            "image/png": "[encoded data removed]",
            "text/plain": [
              "<Figure size 432x288 with 1 Axes>"
            ]
          },
          "metadata": {
            "tags": [],
            "needs_background": "light"
          }
        }
      ]
    },
    {
      "cell_type": "code",
      "metadata": {
        "id": "S0xtNC73rx43"
      },
      "source": [
        ""
      ],
      "execution_count": null,
      "outputs": []
    },
    {
      "cell_type": "markdown",
      "metadata": {
        "id": "yNbTVa2GsLbU"
      },
      "source": [
        "# changing the neural network"
      ]
    },
    {
      "cell_type": "code",
      "metadata": {
        "colab": {
          "base_uri": "https://localhost:8080/"
        },
        "id": "sDZ-Y3OUrygg",
        "outputId": "9a6b83ea-9a8c-4474-a829-feb1267d29ae"
      },
      "source": [
        "input_size = 28\n",
        "model = models.Sequential()\n",
        "model.add(layers.Conv2D(32, kernel_size = (5, 5), activation='relu', input_shape=(input_size, input_size, 1)))\n",
        "# model.add(layers.MaxPooling2D(pool_size=(2, 2), strides=(2, 2), padding='same'))\n",
        "model.add(layers.Conv2D(32, kernel_size = (5, 5), activation='relu', ))\n",
        "# model.add(layers.Conv2D(16, kernel_size = (5, 5), activation='relu', ))\n",
        "# model.add(layers.MaxPooling2D(pool_size=(2, 2), strides=(2, 2), padding='same'))\n",
        "model.add(layers.Flatten())\n",
        "model.add(layers.Dense(28, activation='relu'))\n",
        "model.add(layers.Dense(16, activation='relu'))\n",
        "# model.add(layers.Dropout(0.5)) \n",
        "# model.add(layers.Dense(8, activation='relu'))\n",
        "# model.add(layers.Dropout(0.5))\n",
        "model.add(layers.Dense(6, activation='softmax')) \n",
        "model.summary()  "
      ],
      "execution_count": 20,
      "outputs": [
        {
          "output_type": "stream",
          "text": [
            "Model: \"sequential_1\"\n",
            "_________________________________________________________________\n",
            "Layer (type)                 Output Shape              Param #   \n",
            "=================================================================\n",
            "conv2d_2 (Conv2D)            (None, 24, 24, 32)        832       \n",
            "_________________________________________________________________\n",
            "conv2d_3 (Conv2D)            (None, 20, 20, 32)        25632     \n",
            "_________________________________________________________________\n",
            "flatten_1 (Flatten)          (None, 12800)             0         \n",
            "_________________________________________________________________\n",
            "dense_3 (Dense)              (None, 28)                358428    \n",
            "_________________________________________________________________\n",
            "dense_4 (Dense)              (None, 16)                464       \n",
            "_________________________________________________________________\n",
            "dense_5 (Dense)              (None, 6)                 102       \n",
            "=================================================================\n",
            "Total params: 385,458\n",
            "Trainable params: 385,458\n",
            "Non-trainable params: 0\n",
            "_________________________________________________________________\n"
          ],
          "name": "stdout"
        }
      ]
    },
    {
      "cell_type": "code",
      "metadata": {
        "colab": {
          "base_uri": "https://localhost:8080/"
        },
        "id": "EP4PF098rykS",
        "outputId": "933509fe-b121-4ede-f4e6-ed60b04a2905"
      },
      "source": [
        "model.compile(optimizer='adam',\n",
        "              loss='CategoricalCrossentropy',\n",
        "              metrics=['accuracy'])\n",
        "\n",
        "history = model.fit(train_drawings, train_labels, epochs=6, validation_data=(test_drawings, test_labels))"
      ],
      "execution_count": 22,
      "outputs": [
        {
          "output_type": "stream",
          "text": [
            "Epoch 1/6\n",
            "18463/18463 [==============================] - 1698s 92ms/step - loss: 0.8978 - accuracy: 0.6926 - val_loss: 0.5455 - val_accuracy: 0.8062\n",
            "Epoch 2/6\n",
            "18463/18463 [==============================] - 1691s 92ms/step - loss: 0.5105 - accuracy: 0.8194 - val_loss: 0.4991 - val_accuracy: 0.8218\n",
            "Epoch 3/6\n",
            "18463/18463 [==============================] - 1692s 92ms/step - loss: 0.4565 - accuracy: 0.8392 - val_loss: 0.4988 - val_accuracy: 0.8278\n",
            "Epoch 4/6\n",
            "18463/18463 [==============================] - 1685s 91ms/step - loss: 0.4235 - accuracy: 0.8518 - val_loss: 0.4965 - val_accuracy: 0.8290\n",
            "Epoch 5/6\n",
            "18463/18463 [==============================] - 1706s 92ms/step - loss: 0.3989 - accuracy: 0.8608 - val_loss: 0.5056 - val_accuracy: 0.8275\n",
            "Epoch 6/6\n",
            "18463/18463 [==============================] - 1692s 92ms/step - loss: 0.3808 - accuracy: 0.8671 - val_loss: 0.5109 - val_accuracy: 0.8265\n"
          ],
          "name": "stdout"
        }
      ]
    },
    {
      "cell_type": "code",
      "metadata": {
        "colab": {
          "base_uri": "https://localhost:8080/"
        },
        "id": "eXs27T8kZwQg",
        "outputId": "3bc6b3ab-d79f-448b-f50b-cb9150f442e8"
      },
      "source": [
        "model.save('model_colab_86,71%')  #to save a model...86.71% on training (6 epochs) and 82,90%on test set (epoch = 4)"
      ],
      "execution_count": 24,
      "outputs": [
        {
          "output_type": "stream",
          "text": [
            "INFO:tensorflow:Assets written to: model_colab_86,71%/assets\n"
          ],
          "name": "stdout"
        }
      ]
    },
    {
      "cell_type": "code",
      "metadata": {
        "colab": {
          "base_uri": "https://localhost:8080/",
          "height": 296
        },
        "id": "nDlupzr7TY3n",
        "outputId": "6d8b5e76-5f7a-49e8-ddbc-178b43595b71"
      },
      "source": [
        "plt.plot(history.history['accuracy'], label='training set')\n",
        "plt.plot(history.history['val_accuracy'], label = 'testing set')\n",
        "plt.xlabel('Epoch')\n",
        "plt.ylabel('Accuracy')\n",
        "#plt.ylim([0.5, 1])\n",
        "plt.legend(loc='lower right')\n",
        "\n",
        "test_loss, test_acc = model.evaluate(test_drawings,  test_labels, verbose=2)"
      ],
      "execution_count": 23,
      "outputs": [
        {
          "output_type": "stream",
          "text": [
            "4616/4616 - 82s - loss: 0.5109 - accuracy: 0.8265\n"
          ],
          "name": "stdout"
        },
        {
          "output_type": "display_data",
          "data": {
            "image/png": "[encoded data removed]",
            "text/plain": [
              "<Figure size 432x288 with 1 Axes>"
            ]
          },
          "metadata": {
            "tags": [],
            "needs_background": "light"
          }
        }
      ]
    },
    {
      "cell_type": "markdown",
      "metadata": {
        "id": "pMbJY1fiIUvF"
      },
      "source": [
        "# or to save the model training data"
      ]
    },
    {
      "cell_type": "code",
      "metadata": {
        "id": "b464HHjCrytT"
      },
      "source": [
        "model.compile(optimizer='adam',\n",
        "              loss='CategoricalCrossentropy',\n",
        "              metrics=['accuracy'])\n",
        "print('compiled')"
      ],
      "execution_count": null,
      "outputs": []
    },
    {
      "cell_type": "code",
      "metadata": {
        "id": "3yp6LKDdImRK"
      },
      "source": [
        "# #from tensorflow.keras.utils import plot_model\n",
        "# #plot_model(best_model, show_shapes=True)\n",
        "\n",
        "# batch_size = 320\n",
        "\n",
        "# #this line is for saving our model training data to use it afterwards with model.load_weights('cnn_from_scratch_fruits.hdf5') we can load it\n",
        "# checkpointer = ModelCheckpoint(filepath = 'cnn_from_scratch_fruits.hdf5', verbose = 1, save_best_only = True)\n",
        "\n",
        "# #early_stop exit too, i have to check\n",
        "\n",
        "# history = model.fit(x_train, y_train,\n",
        "#                     batch_size = batch_size,\n",
        "#                     epochs = 3\n",
        "#                     validation_data=(x_test, y_test),\n",
        "#                     callbacks = [chekpointer],\n",
        "#                     shuffle=True) "
      ],
      "execution_count": null,
      "outputs": []
    },
    {
      "cell_type": "code",
      "metadata": {
        "id": "yjsIMB7WImUp"
      },
      "source": [
        ""
      ],
      "execution_count": null,
      "outputs": []
    },
    {
      "cell_type": "code",
      "metadata": {
        "id": "647bbn8BImZ6"
      },
      "source": [
        ""
      ],
      "execution_count": null,
      "outputs": []
    },
    {
      "cell_type": "markdown",
      "metadata": {
        "id": "oXxYVTqz-LSq"
      },
      "source": [
        "## Full-color dataset\n",
        "\n",
        "Drawings are nice, but how good are CNN's for nice color pictures? Download [this](https://www.kaggle.com/moltean/fruits) dataset to get pictures of fruits and vegetables. Design and evaluate a CNN to classify these (remember; these are RGB color pictures).\n",
        "\n",
        "Hint: take some inspiration from already successful and [popular CNN architectures](https://www.topbots.com/important-cnn-architectures/), from [keras built-in NN models](https://keras.io/api/applications/) or [pytorch built-in ones](https://pytorch.org/vision/0.8/models.html).\n",
        "\n",
        "PS: You can create a separate repository for this project."
      ]
    },
    {
      "cell_type": "code",
      "metadata": {
        "id": "7UaQOoOP-LSq"
      },
      "source": [
        "# Design and evaluate a CNN for classifying fruits and vegetables"
      ],
      "execution_count": null,
      "outputs": []
    },
    {
      "cell_type": "code",
      "metadata": {
        "id": "QgjdrGgO-LSr"
      },
      "source": [
        "# !pip3 install -q kaggle"
      ],
      "execution_count": 25,
      "outputs": []
    },
    {
      "cell_type": "code",
      "metadata": {
        "id": "uzZJbkW9-LSr",
        "colab": {
          "base_uri": "https://localhost:8080/"
        },
        "outputId": "6c8525eb-c987-48a6-964a-475ef1dd0ac7"
      },
      "source": [
        "from google.colab import drive\n",
        "# drive.mount('/content/drive')"
      ],
      "execution_count": 27,
      "outputs": [
        {
          "output_type": "stream",
          "text": [
            "Mounted at /content/drive\n"
          ],
          "name": "stdout"
        }
      ]
    },
    {
      "cell_type": "code",
      "metadata": {
        "colab": {
          "resources": {
            "http://localhost:8080/nbextensions/google.colab/files.js": {
              "data": "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",
              "ok": true,
              "headers": [
                [
                  "content-type",
                  "application/javascript"
                ]
              ],
              "status": 200,
              "status_text": ""
            }
          },
          "base_uri": "https://localhost:8080/",
          "height": 378
        },
        "id": "8Hm1Zg0Tmfgr",
        "outputId": "1ab2a242-12ad-435d-daf1-f2d436edc6dd"
      },
      "source": [
        "from google.colab import files\n",
        "\n",
        "files.upload()"
      ],
      "execution_count": 28,
      "outputs": [
        {
          "output_type": "display_data",
          "data": {
            "text/html": [
              "\n",
              "     <input type=\"file\" id=\"files-5c506059-eac9-4e12-a334-b0b43601f258\" name=\"files[]\" multiple disabled\n",
              "        style=\"border:none\" />\n",
              "     <output id=\"result-5c506059-eac9-4e12-a334-b0b43601f258\">\n",
              "      Upload widget is only available when the cell has been executed in the\n",
              "      current browser session. Please rerun this cell to enable.\n",
              "      </output>\n",
              "      <script src=\"/nbextensions/google.colab/files.js\"></script> "
            ],
            "text/plain": [
              "<IPython.core.display.HTML object>"
            ]
          },
          "metadata": {
            "tags": []
          }
        },
        {
          "output_type": "error",
          "ename": "KeyboardInterrupt",
          "evalue": "ignored",
          "traceback": [
            "\u001b[0;31m---------------------------------------------------------------------------\u001b[0m",
            "\u001b[0;31mKeyboardInterrupt\u001b[0m                         Traceback (most recent call last)",
            "\u001b[0;32m<ipython-input-28-aac4dfaac8e9>\u001b[0m in \u001b[0;36m<module>\u001b[0;34m()\u001b[0m\n\u001b[1;32m      1\u001b[0m \u001b[0;32mfrom\u001b[0m \u001b[0mgoogle\u001b[0m\u001b[0;34m.\u001b[0m\u001b[0mcolab\u001b[0m \u001b[0;32mimport\u001b[0m \u001b[0mfiles\u001b[0m\u001b[0;34m\u001b[0m\u001b[0;34m\u001b[0m\u001b[0m\n\u001b[1;32m      2\u001b[0m \u001b[0;34m\u001b[0m\u001b[0m\n\u001b[0;32m----> 3\u001b[0;31m \u001b[0mfiles\u001b[0m\u001b[0;34m.\u001b[0m\u001b[0mupload\u001b[0m\u001b[0;34m(\u001b[0m\u001b[0;34m)\u001b[0m\u001b[0;34m\u001b[0m\u001b[0;34m\u001b[0m\u001b[0m\n\u001b[0m",
            "\u001b[0;32m/usr/local/lib/python3.7/dist-packages/google/colab/files.py\u001b[0m in \u001b[0;36mupload\u001b[0;34m()\u001b[0m\n\u001b[1;32m     62\u001b[0m   result = _output.eval_js(\n\u001b[1;32m     63\u001b[0m       'google.colab._files._uploadFiles(\"{input_id}\", \"{output_id}\")'.format(\n\u001b[0;32m---> 64\u001b[0;31m           input_id=input_id, output_id=output_id))\n\u001b[0m\u001b[1;32m     65\u001b[0m   \u001b[0mfiles\u001b[0m \u001b[0;34m=\u001b[0m \u001b[0m_collections\u001b[0m\u001b[0;34m.\u001b[0m\u001b[0mdefaultdict\u001b[0m\u001b[0;34m(\u001b[0m\u001b[0m_six\u001b[0m\u001b[0;34m.\u001b[0m\u001b[0mbinary_type\u001b[0m\u001b[0;34m)\u001b[0m\u001b[0;34m\u001b[0m\u001b[0;34m\u001b[0m\u001b[0m\n\u001b[1;32m     66\u001b[0m   \u001b[0;31m# Mapping from original filename to filename as saved locally.\u001b[0m\u001b[0;34m\u001b[0m\u001b[0;34m\u001b[0m\u001b[0;34m\u001b[0m\u001b[0m\n",
            "\u001b[0;32m/usr/local/lib/python3.7/dist-packages/google/colab/output/_js.py\u001b[0m in \u001b[0;36meval_js\u001b[0;34m(script, ignore_result, timeout_sec)\u001b[0m\n\u001b[1;32m     38\u001b[0m   \u001b[0;32mif\u001b[0m \u001b[0mignore_result\u001b[0m\u001b[0;34m:\u001b[0m\u001b[0;34m\u001b[0m\u001b[0;34m\u001b[0m\u001b[0m\n\u001b[1;32m     39\u001b[0m     \u001b[0;32mreturn\u001b[0m\u001b[0;34m\u001b[0m\u001b[0;34m\u001b[0m\u001b[0m\n\u001b[0;32m---> 40\u001b[0;31m   \u001b[0;32mreturn\u001b[0m \u001b[0m_message\u001b[0m\u001b[0;34m.\u001b[0m\u001b[0mread_reply_from_input\u001b[0m\u001b[0;34m(\u001b[0m\u001b[0mrequest_id\u001b[0m\u001b[0;34m,\u001b[0m \u001b[0mtimeout_sec\u001b[0m\u001b[0;34m)\u001b[0m\u001b[0;34m\u001b[0m\u001b[0;34m\u001b[0m\u001b[0m\n\u001b[0m\u001b[1;32m     41\u001b[0m \u001b[0;34m\u001b[0m\u001b[0m\n\u001b[1;32m     42\u001b[0m \u001b[0;34m\u001b[0m\u001b[0m\n",
            "\u001b[0;32m/usr/local/lib/python3.7/dist-packages/google/colab/_message.py\u001b[0m in \u001b[0;36mread_reply_from_input\u001b[0;34m(message_id, timeout_sec)\u001b[0m\n\u001b[1;32m     99\u001b[0m     \u001b[0mreply\u001b[0m \u001b[0;34m=\u001b[0m \u001b[0m_read_next_input_message\u001b[0m\u001b[0;34m(\u001b[0m\u001b[0;34m)\u001b[0m\u001b[0;34m\u001b[0m\u001b[0;34m\u001b[0m\u001b[0m\n\u001b[1;32m    100\u001b[0m     \u001b[0;32mif\u001b[0m \u001b[0mreply\u001b[0m \u001b[0;34m==\u001b[0m \u001b[0m_NOT_READY\u001b[0m \u001b[0;32mor\u001b[0m \u001b[0;32mnot\u001b[0m \u001b[0misinstance\u001b[0m\u001b[0;34m(\u001b[0m\u001b[0mreply\u001b[0m\u001b[0;34m,\u001b[0m \u001b[0mdict\u001b[0m\u001b[0;34m)\u001b[0m\u001b[0;34m:\u001b[0m\u001b[0;34m\u001b[0m\u001b[0;34m\u001b[0m\u001b[0m\n\u001b[0;32m--> 101\u001b[0;31m       \u001b[0mtime\u001b[0m\u001b[0;34m.\u001b[0m\u001b[0msleep\u001b[0m\u001b[0;34m(\u001b[0m\u001b[0;36m0.025\u001b[0m\u001b[0;34m)\u001b[0m\u001b[0;34m\u001b[0m\u001b[0;34m\u001b[0m\u001b[0m\n\u001b[0m\u001b[1;32m    102\u001b[0m       \u001b[0;32mcontinue\u001b[0m\u001b[0;34m\u001b[0m\u001b[0;34m\u001b[0m\u001b[0m\n\u001b[1;32m    103\u001b[0m     if (reply.get('type') == 'colab_reply' and\n",
            "\u001b[0;31mKeyboardInterrupt\u001b[0m: "
          ]
        }
      ]
    },
    {
      "cell_type": "code",
      "metadata": {
        "id": "zIMxC4sEmfki"
      },
      "source": [
        "!mkdir ~/.kaggle\n",
        "#1.pip install kaggle\n",
        "#2.cd ~/.kaggle\n",
        "#3.homepage www.kaggle.com -> Your Account -> Create New API token\n",
        "#4.mv ~/Downloads/kaggle.json ./\n",
        "#5.chmod 600 ./kaggle.json"
      ],
      "execution_count": null,
      "outputs": []
    },
    {
      "cell_type": "code",
      "metadata": {
        "id": "u6cbfho9mfp7"
      },
      "source": [
        "!cd ~/.kaggle"
      ],
      "execution_count": null,
      "outputs": []
    },
    {
      "cell_type": "code",
      "metadata": {
        "id": "HdBOgoA3mfta"
      },
      "source": [
        "!cp /content/kaggle.json ~/.kaggle/kaggle.json"
      ],
      "execution_count": null,
      "outputs": []
    },
    {
      "cell_type": "code",
      "metadata": {
        "id": "mGDRifq8-LSs"
      },
      "source": [
        "!chmod 600 ~/.kaggle/kaggle.json"
      ],
      "execution_count": null,
      "outputs": []
    },
    {
      "cell_type": "code",
      "metadata": {
        "id": "hBW9dDsnm6kw"
      },
      "source": [
        "#download dataset\n",
        "!kaggle datasets download -d moltean/fruits"
      ],
      "execution_count": null,
      "outputs": []
    },
    {
      "cell_type": "code",
      "metadata": {
        "id": "PIOWKy8sm6o7"
      },
      "source": [
        "# unzip dataset\n",
        "!unzip -u \"/content/fruits\" -d \"/content/\""
      ],
      "execution_count": null,
      "outputs": []
    },
    {
      "cell_type": "code",
      "metadata": {
        "id": "njwEcJIpm6-P"
      },
      "source": [
        "from tensorflow.keras.models import Sequential\n",
        "from tensorflow.keras.layers import Conv2D,MaxPooling2D   # >>no need to put layers.Conv2D, just Conv2D\n",
        "from tensorflow.keras.layers import Activation, Dense, Flatten, Dropout\n",
        "from tensorflow.keras.preprocessing.image import ImageDataGenerator\n",
        "from tensorflow.keras.callbacks import ModelCheckpoint\n",
        "from tensorflow.keras import backend as K\n",
        "from tensorflow.keras.preprocessing.image import array_to_img, img_to_array, load_img\n",
        "from sklearn.datasets import load_files\n",
        "import matplotlib.image as mpimg\n",
        "import numpy as np\n",
        "%matplotlib inline\n",
        "import matplotlib.pyplot as plt\n",
        "from keras.utils import np_utils"
      ],
      "execution_count": null,
      "outputs": []
    },
    {
      "cell_type": "code",
      "metadata": {
        "id": "_Sw6ZsX9nV3F"
      },
      "source": [
        "img = mpimg.imread('/content/fruits-360/Training/Apple Red 1/101_100.jpg')\n",
        "print(img.shape)\n",
        "plt.imshow(img)"
      ],
      "execution_count": null,
      "outputs": []
    },
    {
      "cell_type": "code",
      "metadata": {
        "id": "gxp-1G2ynV53"
      },
      "source": [
        "img = mpimg.imread('/content/fruits-360/Training/Beetroot/101_100.jpg')\n",
        "print(img.shape)\n",
        "plt.imshow(img)"
      ],
      "execution_count": null,
      "outputs": []
    },
    {
      "cell_type": "code",
      "metadata": {
        "id": "YBnZg02jnV_a"
      },
      "source": [
        "import os, os.path\n",
        "train_categories = []\n",
        "train_samples = []\n",
        "for i in os.listdir(\"/content/fruits-360/Training/\"):\n",
        "    train_categories.append(i)\n",
        "    train_samples.append(len(os.listdir(\"/content/fruits-360/Training/\"+ i)))\n",
        "\n",
        "test_categories = []\n",
        "test_samples = []\n",
        "for i in os.listdir(\"/content/fruits-360/Test/\"):\n",
        "    test_categories.append(i)\n",
        "    test_samples.append(len(os.listdir(\"/content/fruits-360/Test/\"+ i)))\n",
        "\n",
        "    \n",
        "print(\"Count of Fruits in Training set:\", sum(train_samples))\n",
        "print(\"Count of Fruits in Set set:\", sum(test_samples))"
      ],
      "execution_count": null,
      "outputs": []
    },
    {
      "cell_type": "code",
      "metadata": {
        "id": "MWqYbJydneUE"
      },
      "source": [
        "figure_size = plt.rcParams[\"figure.figsize\"]\n",
        "figure_size[0] = 40\n",
        "figure_size[1] = 20\n",
        "plt.rcParams[\"figure.figsize\"] = figure_size\n",
        "index = np.arange(len(train_categories))\n",
        "plt.bar(index, train_samples)\n",
        "plt.xlabel('Fruits', fontsize=25)\n",
        "plt.ylabel('Count of Fruits', fontsize=25)\n",
        "plt.xticks(index, train_categories, fontsize=15, rotation=90)\n",
        "plt.title('Distrubution of Fruits with counts in Training Set', fontsize=35)\n",
        "plt.show()"
      ],
      "execution_count": null,
      "outputs": []
    },
    {
      "cell_type": "code",
      "metadata": {
        "id": "Ffrkr8ZmneZ1"
      },
      "source": [
        "plt.rcParams[\"figure.figsize\"] = figure_size\n",
        "index = np.arange(len(test_categories))\n",
        "plt.bar(index, test_samples)\n",
        "plt.xlabel('Fruits', fontsize=25)\n",
        "plt.ylabel('Count of Fruits', fontsize=25)\n",
        "plt.xticks(index, train_categories, fontsize=15, rotation=90)\n",
        "plt.title('Distrubution of Fruits with counts in Test Set', fontsize=35)\n",
        "plt.show()"
      ],
      "execution_count": null,
      "outputs": []
    },
    {
      "cell_type": "code",
      "metadata": {
        "id": "q3yJdPutnec3"
      },
      "source": [
        "from sklearn.datasets import load_files\n",
        "train_dir = '/content/fruits-360/Training/'\n",
        "test_dir = '/content/fruits-360/Test/'\n",
        "\n",
        "def load_dataset(data_path):\n",
        "    data_loading = load_files(data_path)\n",
        "    files_add = np.array(data_loading['filenames'])\n",
        "    targets_fruits = np.array(data_loading['target'])\n",
        "    target_labels_fruits = np.array(data_loading['target_names'])\n",
        "    return files_add,targets_fruits,target_labels_fruits\n",
        "    \n",
        "X_train, y_train,target_labels = load_dataset(train_dir)\n",
        "X_test, y_test,_ = load_dataset(test_dir)"
      ],
      "execution_count": null,
      "outputs": []
    },
    {
      "cell_type": "code",
      "metadata": {
        "id": "nFgZe0F7nldh"
      },
      "source": [
        "X_train"
      ],
      "execution_count": null,
      "outputs": []
    },
    {
      "cell_type": "code",
      "metadata": {
        "id": "0uwC9MDwnloP"
      },
      "source": [
        "y_train"
      ],
      "execution_count": null,
      "outputs": []
    },
    {
      "cell_type": "code",
      "metadata": {
        "id": "jIVt22j0nWEQ"
      },
      "source": [
        "# number of labels\n",
        "nlabels = len(np.unique(y_train))\n",
        "nlabels"
      ],
      "execution_count": null,
      "outputs": []
    },
    {
      "cell_type": "code",
      "metadata": {
        "id": "-Y01Q214nv52"
      },
      "source": [
        "from keras.utils import np_utils\n",
        "y_train = np_utils.to_categorical(y_train,nlabels)\n",
        "y_test = np_utils.to_categorical(y_test,nlabels)\n",
        "y_train[0]"
      ],
      "execution_count": null,
      "outputs": []
    },
    {
      "cell_type": "code",
      "metadata": {
        "id": "K-lpPZvEnv_d"
      },
      "source": [
        "X_test.shape"
      ],
      "execution_count": null,
      "outputs": []
    },
    {
      "cell_type": "code",
      "metadata": {
        "id": "XVYvHZRLnwEk"
      },
      "source": [
        "y_test.shape"
      ],
      "execution_count": null,
      "outputs": []
    },
    {
      "cell_type": "code",
      "metadata": {
        "id": "ttRwpC5Em7Js"
      },
      "source": [
        "x_test,x_valid = X_test[:7000],X_test[7000:10000]\n",
        "y_test,y_vaild = y_test[:7000],y_test[7000:10000]\n",
        "print('Vaildation X : ',x_valid.shape)\n",
        "print('Vaildation y :',y_vaild.shape)\n",
        "print('Test X : ',x_test.shape)\n",
        "print('Test y : ',y_test.shape)"
      ],
      "execution_count": null,
      "outputs": []
    },
    {
      "cell_type": "code",
      "metadata": {
        "id": "zmkLUQhqn7yp"
      },
      "source": [
        "from tensorflow.keras.preprocessing.image import array_to_img, img_to_array, load_img\n",
        "def convert_image_to_array_form(files):\n",
        "    images_array=[]\n",
        "    for file in files:\n",
        "      #convert to numpy Array\n",
        "        images_array.append(img_to_array(load_img(file)))\n",
        "    return images_array"
      ],
      "execution_count": null,
      "outputs": []
    },
    {
      "cell_type": "code",
      "metadata": {
        "id": "rUJFv7zsn72u"
      },
      "source": [
        "x_train = convert_image_to_array_form(X_train)\n",
        "x_train = np.array(x_train)\n",
        "#images_array=[]\n",
        "#for file in X_train:\n",
        "#  images_array.append(img_to_array(load_img(file)))\n",
        "#x_train = images_array\n",
        "print('Training set shape : ',x_train.shape)"
      ],
      "execution_count": null,
      "outputs": []
    },
    {
      "cell_type": "code",
      "metadata": {
        "id": "Eb2h_B0xqC12"
      },
      "source": [
        "#print('Training set shape : ',len(x_train))"
      ],
      "execution_count": null,
      "outputs": []
    },
    {
      "cell_type": "code",
      "metadata": {
        "id": "B4Prwf78qC6l"
      },
      "source": [
        "x_valid = np.array(convert_image_to_array_form(x_valid))\n",
        "print('Validation set shape : ',x_valid.shape)"
      ],
      "execution_count": null,
      "outputs": []
    },
    {
      "cell_type": "code",
      "metadata": {
        "id": "yybg2dkLQ99z"
      },
      "source": [
        ""
      ],
      "execution_count": null,
      "outputs": []
    },
    {
      "cell_type": "code",
      "metadata": {
        "id": "WtAmncT7n78q"
      },
      "source": [
        "x_test = np.array(convert_image_to_array_form(x_test))\n",
        "print('Test set shape : ',x_test.shape)\n",
        "\n",
        "print('1st training image shape ',x_train[0].shape)"
      ],
      "execution_count": null,
      "outputs": []
    },
    {
      "cell_type": "code",
      "metadata": {
        "id": "uCaTIaqTRRrm"
      },
      "source": [
        ""
      ],
      "execution_count": null,
      "outputs": []
    },
    {
      "cell_type": "code",
      "metadata": {
        "id": "hsUlj5ubqL_j"
      },
      "source": [
        "# !!!! VERY imporatant, it reduces the line needed to train ???\n",
        "x_train = x_train.astype('float32')/255\n",
        "x_valid = x_valid.astype('float32')/255\n",
        "x_test = x_test.astype('float32')/255"
      ],
      "execution_count": null,
      "outputs": []
    },
    {
      "cell_type": "code",
      "metadata": {
        "id": "kvfxBuI_qMDK"
      },
      "source": [
        "from tensorflow.keras.models import Sequential\n",
        "from tensorflow.keras.layers import Conv2D,MaxPooling2D   # >>no need to put layers.Conv2D, just Conv2D\n",
        "from tensorflow.keras.layers import Activation, Dense, Flatten, Dropout"
      ],
      "execution_count": null,
      "outputs": []
    },
    {
      "cell_type": "code",
      "metadata": {
        "id": "1XZRAEI3qMHN"
      },
      "source": [
        "model = models.Sequential()\n",
        "model.add(Conv2D(filters= 16, kernel_size = (5, 5), activation='relu'))\n",
        "#with kernel 2 instead of (5,5), poll_size 2 and without strides, it is FASTER\n",
        "model.add(MaxPooling2D(pool_size=(2), strides=(2, 2), padding='same'))\n",
        "\n",
        "model.add(Conv2D(32, kernel_size = (5, 5), activation='relu', ))\n",
        "model.add(MaxPooling2D(pool_size=(2), strides=(2, 2), padding='same'))\n",
        "\n",
        "model.add(Conv2D(64, kernel_size = (5, 5), activation='relu', ))\n",
        "model.add(MaxPooling2D(pool_size=(2), strides=(2, 2), padding='same'))\n",
        "\n",
        "model.add(Conv2D(128, kernel_size = (5, 5), activation='relu', ))\n",
        "model.add(MaxPooling2D(pool_size=(2), strides=(2, 2), padding='same'))\n",
        "\n",
        "model.add(layers.Flatten())\n",
        "model.add(layers.Dense(150, activation='relu'))\n",
        "\n",
        "model.add(layers.Dense(nlabels, activation='softmax')) # 6 classes\n",
        "model.summary()"
      ],
      "execution_count": null,
      "outputs": []
    },
    {
      "cell_type": "code",
      "metadata": {
        "id": "MShuNH4TVwMh"
      },
      "source": [
        "model.compile(optimizer='adam',\n",
        "              loss='CategoricalCrossentropy',\n",
        "              metrics=['accuracy'])\n",
        "\n"
      ],
      "execution_count": null,
      "outputs": []
    },
    {
      "cell_type": "code",
      "metadata": {
        "id": "y_jyaCcMVwRp"
      },
      "source": [
        "#from tensorflow.keras.utils import plot_model\n",
        "#plot_model(best_model, show_shapes=True)\n",
        "\n",
        "batch_size = 320\n",
        "\n",
        "#this line is for saving our model training data to use it afterwards with model.load_weights('cnn_from_scratch_fruits.hdf5') we can load it\n",
        "checkpointer = ModelCheckpoint(filepath = 'cnn_from_scratch_fruits.hdf5', verbose = 1, save_best_only = True)\n",
        "\n",
        "#early_stop exit too, i have to check\n",
        "\n",
        "history = model.fit(x_train, y_train,\n",
        "                    batch_size = batch_size,\n",
        "                    epochs = 3\n",
        "                    validation_data=(x_test, y_test),\n",
        "                    callbacks = [chekpointer],\n",
        "                    shuffle=True) "
      ],
      "execution_count": null,
      "outputs": []
    },
    {
      "cell_type": "code",
      "metadata": {
        "id": "FPtz3QWCVwW9"
      },
      "source": [
        ""
      ],
      "execution_count": null,
      "outputs": []
    },
    {
      "cell_type": "code",
      "metadata": {
        "id": "8zgnrX4oVwap"
      },
      "source": [
        ""
      ],
      "execution_count": null,
      "outputs": []
    },
    {
      "cell_type": "markdown",
      "metadata": {
        "id": "04z1IsPt-LSs"
      },
      "source": [
        "## Visualizing feature extraction\n",
        "\n",
        "Alright, time for some nice visualizations! Neural networks are notoriously **hard to interpret**, and all their hidden variables make for a very **unobservable** transformation. How can we, as humans, still visualize our neural network, though?\n",
        "\n",
        "We can visualize the feature maps, which is what each convolutional layer 'sees' after the filters are applied. Follow the steps described in [this article](https://machinelearningmastery.com/how-to-visualize-filters-and-feature-maps-in-convolutional-neural-networks/) to try this out on your fruit CNN!\n",
        "\n",
        "PS: You can have this in the same repo as your Fruit CNN"
      ]
    },
    {
      "cell_type": "code",
      "metadata": {
        "id": "dEqBYhQv-LSt"
      },
      "source": [
        "# Visualize the feature maps of your fruit CNN"
      ],
      "execution_count": null,
      "outputs": []
    },
    {
      "cell_type": "code",
      "metadata": {
        "id": "sqnSE_am-LSu"
      },
      "source": [
        ""
      ],
      "execution_count": null,
      "outputs": []
    },
    {
      "cell_type": "code",
      "metadata": {
        "id": "ctYPJrCo-LSu"
      },
      "source": [
        ""
      ],
      "execution_count": null,
      "outputs": []
    },
    {
      "cell_type": "code",
      "metadata": {
        "id": "F3rU7nw--LSu"
      },
      "source": [
        ""
      ],
      "execution_count": null,
      "outputs": []
    }
  ]
}